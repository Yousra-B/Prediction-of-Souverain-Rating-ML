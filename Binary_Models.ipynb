{
 "cells": [
  {
   "cell_type": "markdown",
   "metadata": {
    "id": "RzbT4gRGPI19"
   },
   "source": [
    "## Importation des bib"
   ]
  },
  {
   "cell_type": "code",
   "execution_count": 1,
   "metadata": {
    "executionInfo": {
     "elapsed": 1231,
     "status": "ok",
     "timestamp": 1635157174896,
     "user": {
      "displayName": "Yousra Bribri",
      "photoUrl": "https://lh3.googleusercontent.com/a-/AOh14GgOVU_86PAoXg4qd56z_stxiehDDY6SCQ7yTGBNkw=s64",
      "userId": "06517876246303921367"
     },
     "user_tz": -60
    },
    "id": "mALlHHnfCdbI"
   },
   "outputs": [],
   "source": [
    "import numpy as np\n",
    "import pandas as pd\n",
    "import matplotlib.pyplot as plt\n",
    "import seaborn as sns\n",
    "\n",
    "from sklearn import svm\n",
    "from sklearn.datasets import make_classification\n",
    "from sklearn.model_selection import train_test_split, cross_val_score, RandomizedSearchCV, GridSearchCV, cross_val_predict\n",
    "from sklearn.ensemble import RandomForestClassifier\n",
    "from sklearn.linear_model import LogisticRegression\n",
    "from sklearn.model_selection import RepeatedStratifiedKFold\n",
    "from sklearn.metrics import roc_curve, roc_auc_score, accuracy_score, confusion_matrix, classification_report\n",
    "from sklearn.preprocessing import StandardScaler\n",
    "from sklearn.feature_selection import RFE, RFECV\n",
    "from sklearn.linear_model import SGDClassifier\n"
   ]
  },
  {
   "cell_type": "markdown",
   "metadata": {
    "id": "jYY-qf5nPNB1"
   },
   "source": [
    "## Importation des données"
   ]
  },
  {
   "cell_type": "code",
   "execution_count": 2,
   "metadata": {
    "executionInfo": {
     "elapsed": 62,
     "status": "ok",
     "timestamp": 1635157175288,
     "user": {
      "displayName": "Yousra Bribri",
      "photoUrl": "https://lh3.googleusercontent.com/a-/AOh14GgOVU_86PAoXg4qd56z_stxiehDDY6SCQ7yTGBNkw=s64",
      "userId": "06517876246303921367"
     },
     "user_tz": -60
    },
    "id": "hB51hAX6CvN4"
   },
   "outputs": [],
   "source": [
    "data = pd.read_csv('Cleaned_Data.csv')"
   ]
  },
  {
   "cell_type": "code",
   "execution_count": 3,
   "metadata": {
    "colab": {
     "base_uri": "https://localhost:8080/"
    },
    "executionInfo": {
     "elapsed": 54,
     "status": "ok",
     "timestamp": 1635157175289,
     "user": {
      "displayName": "Yousra Bribri",
      "photoUrl": "https://lh3.googleusercontent.com/a-/AOh14GgOVU_86PAoXg4qd56z_stxiehDDY6SCQ7yTGBNkw=s64",
      "userId": "06517876246303921367"
     },
     "user_tz": -60
    },
    "id": "BeHx_EWpwHmi",
    "outputId": "cd9103f7-b5b1-4d95-d7ee-bfe170719292"
   },
   "outputs": [
    {
     "data": {
      "text/plain": [
       "B      181\n",
       "BBB    147\n",
       "BB     125\n",
       "AA     111\n",
       "A       87\n",
       "AAA     59\n",
       "CCC     19\n",
       "Name: Rating, dtype: int64"
      ]
     },
     "execution_count": 3,
     "metadata": {},
     "output_type": "execute_result"
    }
   ],
   "source": [
    "data.Rating.value_counts()"
   ]
  },
  {
   "cell_type": "code",
   "execution_count": 4,
   "metadata": {
    "executionInfo": {
     "elapsed": 50,
     "status": "ok",
     "timestamp": 1635157175289,
     "user": {
      "displayName": "Yousra Bribri",
      "photoUrl": "https://lh3.googleusercontent.com/a-/AOh14GgOVU_86PAoXg4qd56z_stxiehDDY6SCQ7yTGBNkw=s64",
      "userId": "06517876246303921367"
     },
     "user_tz": -60
    },
    "id": "RiYEO4b7eOeR"
   },
   "outputs": [],
   "source": [
    "data['Rating'].replace([\"AAA\", \"AA\",\"A\",\"BBB\",\"BB\",\"B\",\"CCC\"], [\"Inv\",\"Inv\",\"Inv\",\"Inv\",\"Spe\",\"Spe\",\"Spe\"], inplace=True)"
   ]
  },
  {
   "cell_type": "code",
   "execution_count": 5,
   "metadata": {
    "colab": {
     "base_uri": "https://localhost:8080/"
    },
    "executionInfo": {
     "elapsed": 44,
     "status": "ok",
     "timestamp": 1635157175290,
     "user": {
      "displayName": "Yousra Bribri",
      "photoUrl": "https://lh3.googleusercontent.com/a-/AOh14GgOVU_86PAoXg4qd56z_stxiehDDY6SCQ7yTGBNkw=s64",
      "userId": "06517876246303921367"
     },
     "user_tz": -60
    },
    "id": "ue_fTOUcV4AT",
    "outputId": "4d651e27-122e-42b5-c19e-90f932c6cd91"
   },
   "outputs": [
    {
     "data": {
      "text/plain": [
       "Inv    404\n",
       "Spe    325\n",
       "Name: Rating, dtype: int64"
      ]
     },
     "execution_count": 5,
     "metadata": {},
     "output_type": "execute_result"
    }
   ],
   "source": [
    "data.Rating.value_counts()"
   ]
  },
  {
   "cell_type": "code",
   "execution_count": 6,
   "metadata": {
    "executionInfo": {
     "elapsed": 40,
     "status": "ok",
     "timestamp": 1635157175290,
     "user": {
      "displayName": "Yousra Bribri",
      "photoUrl": "https://lh3.googleusercontent.com/a-/AOh14GgOVU_86PAoXg4qd56z_stxiehDDY6SCQ7yTGBNkw=s64",
      "userId": "06517876246303921367"
     },
     "user_tz": -60
    },
    "id": "pCa5wySxzy6M"
   },
   "outputs": [],
   "source": [
    "del data['Unnamed: 0']"
   ]
  },
  {
   "cell_type": "code",
   "execution_count": 7,
   "metadata": {
    "executionInfo": {
     "elapsed": 34,
     "status": "ok",
     "timestamp": 1635157175291,
     "user": {
      "displayName": "Yousra Bribri",
      "photoUrl": "https://lh3.googleusercontent.com/a-/AOh14GgOVU_86PAoXg4qd56z_stxiehDDY6SCQ7yTGBNkw=s64",
      "userId": "06517876246303921367"
     },
     "user_tz": -60
    },
    "id": "J7FtCt_7wi69"
   },
   "outputs": [],
   "source": [
    "from sklearn.preprocessing import LabelEncoder\n",
    "le=LabelEncoder()\n",
    "X = data.drop(['Rating'], axis = 1)\n",
    "y=le.fit_transform(data['Rating'])"
   ]
  },
  {
   "cell_type": "code",
   "execution_count": 8,
   "metadata": {
    "colab": {
     "base_uri": "https://localhost:8080/"
    },
    "executionInfo": {
     "elapsed": 26,
     "status": "ok",
     "timestamp": 1635157175291,
     "user": {
      "displayName": "Yousra Bribri",
      "photoUrl": "https://lh3.googleusercontent.com/a-/AOh14GgOVU_86PAoXg4qd56z_stxiehDDY6SCQ7yTGBNkw=s64",
      "userId": "06517876246303921367"
     },
     "user_tz": -60
    },
    "id": "fWPV1gG-wnMf",
    "outputId": "e414b3c0-6ffd-4f19-b80f-33586a4ffe8e"
   },
   "outputs": [
    {
     "data": {
      "text/plain": [
       "array(['Inv', 'Spe'], dtype=object)"
      ]
     },
     "execution_count": 8,
     "metadata": {},
     "output_type": "execute_result"
    }
   ],
   "source": [
    "le.classes_"
   ]
  },
  {
   "cell_type": "code",
   "execution_count": 9,
   "metadata": {
    "colab": {
     "base_uri": "https://localhost:8080/"
    },
    "executionInfo": {
     "elapsed": 23,
     "status": "ok",
     "timestamp": 1635157175292,
     "user": {
      "displayName": "Yousra Bribri",
      "photoUrl": "https://lh3.googleusercontent.com/a-/AOh14GgOVU_86PAoXg4qd56z_stxiehDDY6SCQ7yTGBNkw=s64",
      "userId": "06517876246303921367"
     },
     "user_tz": -60
    },
    "id": "RZGWTaiIwrAc",
    "outputId": "28f705a2-d78d-4066-aca7-7e7038b02a85"
   },
   "outputs": [
    {
     "data": {
      "text/plain": [
       "{'Inv': 0, 'Spe': 1}"
      ]
     },
     "execution_count": 9,
     "metadata": {},
     "output_type": "execute_result"
    }
   ],
   "source": [
    "dict(zip(le.inverse_transform([0,1]),[0,1]))"
   ]
  },
  {
   "cell_type": "code",
   "execution_count": 10,
   "metadata": {
    "colab": {
     "base_uri": "https://localhost:8080/",
     "height": 292
    },
    "executionInfo": {
     "elapsed": 20,
     "status": "ok",
     "timestamp": 1635157175292,
     "user": {
      "displayName": "Yousra Bribri",
      "photoUrl": "https://lh3.googleusercontent.com/a-/AOh14GgOVU_86PAoXg4qd56z_stxiehDDY6SCQ7yTGBNkw=s64",
      "userId": "06517876246303921367"
     },
     "user_tz": -60
    },
    "id": "K2mdCg-8nE2r",
    "outputId": "c5421951-ff43-47d2-e768-acee0c45d0f5"
   },
   "outputs": [
    {
     "data": {
      "text/html": [
       "<div>\n",
       "<style scoped>\n",
       "    .dataframe tbody tr th:only-of-type {\n",
       "        vertical-align: middle;\n",
       "    }\n",
       "\n",
       "    .dataframe tbody tr th {\n",
       "        vertical-align: top;\n",
       "    }\n",
       "\n",
       "    .dataframe thead th {\n",
       "        text-align: right;\n",
       "    }\n",
       "</style>\n",
       "<table border=\"1\" class=\"dataframe\">\n",
       "  <thead>\n",
       "    <tr style=\"text-align: right;\">\n",
       "      <th></th>\n",
       "      <th>Rating</th>\n",
       "      <th>Nominal_GDP(bil.LC)</th>\n",
       "      <th>Nominal_GDP(bil.US$)</th>\n",
       "      <th>GDP_per_capita(US$)</th>\n",
       "      <th>Real_GDP_growth(%)</th>\n",
       "      <th>Real_GDP_per_capita_growth(%)</th>\n",
       "      <th>Real_investment_growth(%)</th>\n",
       "      <th>Investment/GDP(%)</th>\n",
       "      <th>Savings/GDP(%)</th>\n",
       "      <th>Exports/GDP(%)</th>\n",
       "      <th>Unemployment_rate(%of_workforce)</th>\n",
       "      <th>CPI_growth(%)</th>\n",
       "      <th>GDP_deflator_growth(%)</th>\n",
       "      <th>Exchange_rate_year-end(LC/$)</th>\n",
       "      <th>Banks_claims_on_resident_non-govt_sector_growth</th>\n",
       "      <th>Banks_claims_on_resident_non-govt_sector/GDP</th>\n",
       "      <th>GG_balance/GDP(%)</th>\n",
       "      <th>Change_in_Net_GG_debt/GDP(%)</th>\n",
       "      <th>Primary_GG_balance/GDP(%)</th>\n",
       "      <th>GG_Revenues/GDP(%)</th>\n",
       "      <th>GG_Expenditures/GDP(%)</th>\n",
       "      <th>GG_interest_expenditure/revenues(%)</th>\n",
       "      <th>Gross_GG_debt/GDP(%)</th>\n",
       "      <th>Debt/Revenues(%)</th>\n",
       "      <th>Net_GG_debt/GDP(%)</th>\n",
       "      <th>Liquid_assets/GDP</th>\n",
       "      <th>CARs/GDP(%)</th>\n",
       "      <th>Real_exports_growth(%)</th>\n",
       "      <th>Current_account_balance/GDP(%)</th>\n",
       "      <th>Current_account_balance/CARs(%)</th>\n",
       "      <th>Usable_reserves/CAPs(months)</th>\n",
       "      <th>Gross_ext.fin.needs/(CAR+use.res.)(%)</th>\n",
       "      <th>Net_FDI/GDP(%)</th>\n",
       "      <th>Trade_balance/GDP</th>\n",
       "      <th>Net_portfolio_equity_inflow/GDP</th>\n",
       "      <th>Narrow_net_ext.debt/CARs(%)</th>\n",
       "      <th>Narrow_net_ext.debt/CAPs(%)</th>\n",
       "      <th>Net_ext.liabilities/CARs(%)</th>\n",
       "      <th>Short-term_external_debt_by_remaining_maturity/CARs</th>\n",
       "      <th>Usable_reserves(US$mil.)</th>\n",
       "      <th>Gross_LT_commercial_borrowing(US$bil.)</th>\n",
       "      <th>Commercial_debt_stock(year_end_US$bil.)</th>\n",
       "      <th>ST_debt(US$bil.)</th>\n",
       "      <th>Bi-/Multilateral_debt(%of_total)</th>\n",
       "      <th>ST_debt(%of_total)</th>\n",
       "      <th>FC_debt(%of_total)</th>\n",
       "      <th>LT_fixed-rate_debt(%of_total)</th>\n",
       "      <th>Roll-over ratio (% of debt)</th>\n",
       "      <th>Roll-over_ratio(%of_GDP)</th>\n",
       "    </tr>\n",
       "  </thead>\n",
       "  <tbody>\n",
       "    <tr>\n",
       "      <th>0</th>\n",
       "      <td>Inv</td>\n",
       "      <td>11.68</td>\n",
       "      <td>31.05</td>\n",
       "      <td>22659.37</td>\n",
       "      <td>2.49</td>\n",
       "      <td>-1.68</td>\n",
       "      <td>-8.53</td>\n",
       "      <td>25.53</td>\n",
       "      <td>23.11</td>\n",
       "      <td>83.11</td>\n",
       "      <td>3.5</td>\n",
       "      <td>1.85</td>\n",
       "      <td>-9.26</td>\n",
       "      <td>0.38</td>\n",
       "      <td>8.91</td>\n",
       "      <td>64.66</td>\n",
       "      <td>-13.00</td>\n",
       "      <td>18.35</td>\n",
       "      <td>-10.69</td>\n",
       "      <td>17.49</td>\n",
       "      <td>30.49</td>\n",
       "      <td>13.20</td>\n",
       "      <td>62.10</td>\n",
       "      <td>355.04</td>\n",
       "      <td>42.07</td>\n",
       "      <td>20.03</td>\n",
       "      <td>89.81</td>\n",
       "      <td>-0.85</td>\n",
       "      <td>-2.42</td>\n",
       "      <td>-2.70</td>\n",
       "      <td>0.21</td>\n",
       "      <td>307.43</td>\n",
       "      <td>-10.07</td>\n",
       "      <td>2.68</td>\n",
       "      <td>2.84</td>\n",
       "      <td>-51.28</td>\n",
       "      <td>-49.94</td>\n",
       "      <td>-116.71</td>\n",
       "      <td>210.16</td>\n",
       "      <td>-1553.89</td>\n",
       "      <td>3.0</td>\n",
       "      <td>18.8</td>\n",
       "      <td>5.305851</td>\n",
       "      <td>2.38</td>\n",
       "      <td>27.60</td>\n",
       "      <td>42.69</td>\n",
       "      <td>72.40</td>\n",
       "      <td>24.32</td>\n",
       "      <td>15.06</td>\n",
       "    </tr>\n",
       "    <tr>\n",
       "      <th>1</th>\n",
       "      <td>Spe</td>\n",
       "      <td>12.12</td>\n",
       "      <td>32.23</td>\n",
       "      <td>22641.28</td>\n",
       "      <td>3.56</td>\n",
       "      <td>-0.33</td>\n",
       "      <td>10.78</td>\n",
       "      <td>29.15</td>\n",
       "      <td>24.52</td>\n",
       "      <td>74.20</td>\n",
       "      <td>4.3</td>\n",
       "      <td>2.79</td>\n",
       "      <td>0.25</td>\n",
       "      <td>0.38</td>\n",
       "      <td>2.92</td>\n",
       "      <td>64.10</td>\n",
       "      <td>-13.49</td>\n",
       "      <td>17.57</td>\n",
       "      <td>-10.50</td>\n",
       "      <td>15.66</td>\n",
       "      <td>29.14</td>\n",
       "      <td>19.08</td>\n",
       "      <td>77.64</td>\n",
       "      <td>495.85</td>\n",
       "      <td>58.09</td>\n",
       "      <td>19.55</td>\n",
       "      <td>80.80</td>\n",
       "      <td>-2.76</td>\n",
       "      <td>-4.63</td>\n",
       "      <td>-5.73</td>\n",
       "      <td>-0.68</td>\n",
       "      <td>361.98</td>\n",
       "      <td>3.49</td>\n",
       "      <td>-2.49</td>\n",
       "      <td>-3.25</td>\n",
       "      <td>-47.86</td>\n",
       "      <td>-45.26</td>\n",
       "      <td>-119.13</td>\n",
       "      <td>234.65</td>\n",
       "      <td>-3061.71</td>\n",
       "      <td>4.4</td>\n",
       "      <td>23.1</td>\n",
       "      <td>5.505319</td>\n",
       "      <td>1.82</td>\n",
       "      <td>23.39</td>\n",
       "      <td>47.64</td>\n",
       "      <td>76.61</td>\n",
       "      <td>33.34</td>\n",
       "      <td>24.34</td>\n",
       "    </tr>\n",
       "    <tr>\n",
       "      <th>2</th>\n",
       "      <td>Spe</td>\n",
       "      <td>13.34</td>\n",
       "      <td>35.47</td>\n",
       "      <td>23631.61</td>\n",
       "      <td>4.29</td>\n",
       "      <td>-1.09</td>\n",
       "      <td>10.57</td>\n",
       "      <td>32.94</td>\n",
       "      <td>28.86</td>\n",
       "      <td>75.78</td>\n",
       "      <td>4.2</td>\n",
       "      <td>1.39</td>\n",
       "      <td>5.52</td>\n",
       "      <td>0.38</td>\n",
       "      <td>7.68</td>\n",
       "      <td>62.72</td>\n",
       "      <td>-10.01</td>\n",
       "      <td>12.81</td>\n",
       "      <td>-6.42</td>\n",
       "      <td>16.50</td>\n",
       "      <td>26.52</td>\n",
       "      <td>21.77</td>\n",
       "      <td>85.17</td>\n",
       "      <td>516.12</td>\n",
       "      <td>65.60</td>\n",
       "      <td>19.57</td>\n",
       "      <td>81.74</td>\n",
       "      <td>3.69</td>\n",
       "      <td>-4.09</td>\n",
       "      <td>-5.00</td>\n",
       "      <td>-1.21</td>\n",
       "      <td>352.53</td>\n",
       "      <td>3.37</td>\n",
       "      <td>-1.55</td>\n",
       "      <td>0.81</td>\n",
       "      <td>-47.55</td>\n",
       "      <td>-45.29</td>\n",
       "      <td>-106.95</td>\n",
       "      <td>210.30</td>\n",
       "      <td>-4179.92</td>\n",
       "      <td>6.3</td>\n",
       "      <td>28.2</td>\n",
       "      <td>5.821809</td>\n",
       "      <td>0.00</td>\n",
       "      <td>21.42</td>\n",
       "      <td>50.94</td>\n",
       "      <td>79.32</td>\n",
       "      <td>26.84</td>\n",
       "      <td>21.31</td>\n",
       "    </tr>\n",
       "    <tr>\n",
       "      <th>3</th>\n",
       "      <td>Spe</td>\n",
       "      <td>14.16</td>\n",
       "      <td>37.65</td>\n",
       "      <td>25051.06</td>\n",
       "      <td>1.72</td>\n",
       "      <td>1.59</td>\n",
       "      <td>9.51</td>\n",
       "      <td>35.00</td>\n",
       "      <td>28.54</td>\n",
       "      <td>79.56</td>\n",
       "      <td>4.0</td>\n",
       "      <td>2.09</td>\n",
       "      <td>4.35</td>\n",
       "      <td>0.38</td>\n",
       "      <td>10.67</td>\n",
       "      <td>65.40</td>\n",
       "      <td>-6.32</td>\n",
       "      <td>13.41</td>\n",
       "      <td>-1.95</td>\n",
       "      <td>19.60</td>\n",
       "      <td>25.92</td>\n",
       "      <td>22.30</td>\n",
       "      <td>91.92</td>\n",
       "      <td>468.91</td>\n",
       "      <td>75.22</td>\n",
       "      <td>16.70</td>\n",
       "      <td>85.99</td>\n",
       "      <td>3.26</td>\n",
       "      <td>-6.47</td>\n",
       "      <td>-7.52</td>\n",
       "      <td>-1.44</td>\n",
       "      <td>329.63</td>\n",
       "      <td>4.10</td>\n",
       "      <td>-2.83</td>\n",
       "      <td>-2.60</td>\n",
       "      <td>-26.21</td>\n",
       "      <td>-24.37</td>\n",
       "      <td>-74.55</td>\n",
       "      <td>179.55</td>\n",
       "      <td>-5872.03</td>\n",
       "      <td>2.8</td>\n",
       "      <td>31.8</td>\n",
       "      <td>5.954787</td>\n",
       "      <td>4.02</td>\n",
       "      <td>19.10</td>\n",
       "      <td>50.00</td>\n",
       "      <td>65.60</td>\n",
       "      <td>23.80</td>\n",
       "      <td>20.91</td>\n",
       "    </tr>\n",
       "    <tr>\n",
       "      <th>4</th>\n",
       "      <td>Spe</td>\n",
       "      <td>14.47</td>\n",
       "      <td>38.47</td>\n",
       "      <td>25929.95</td>\n",
       "      <td>1.99</td>\n",
       "      <td>3.32</td>\n",
       "      <td>1.41</td>\n",
       "      <td>33.08</td>\n",
       "      <td>31.01</td>\n",
       "      <td>76.84</td>\n",
       "      <td>4.0</td>\n",
       "      <td>1.00</td>\n",
       "      <td>0.18</td>\n",
       "      <td>0.38</td>\n",
       "      <td>1.90</td>\n",
       "      <td>65.22</td>\n",
       "      <td>-4.73</td>\n",
       "      <td>9.40</td>\n",
       "      <td>-0.28</td>\n",
       "      <td>20.06</td>\n",
       "      <td>24.79</td>\n",
       "      <td>22.19</td>\n",
       "      <td>100.50</td>\n",
       "      <td>500.98</td>\n",
       "      <td>83.02</td>\n",
       "      <td>17.48</td>\n",
       "      <td>82.90</td>\n",
       "      <td>0.38</td>\n",
       "      <td>-2.06</td>\n",
       "      <td>-2.49</td>\n",
       "      <td>-2.16</td>\n",
       "      <td>367.19</td>\n",
       "      <td>4.41</td>\n",
       "      <td>2.23</td>\n",
       "      <td>-1.52</td>\n",
       "      <td>-43.21</td>\n",
       "      <td>-42.16</td>\n",
       "      <td>-82.82</td>\n",
       "      <td>197.10</td>\n",
       "      <td>-5093.77</td>\n",
       "      <td>3.3</td>\n",
       "      <td>31.5</td>\n",
       "      <td>5.319149</td>\n",
       "      <td>12.70</td>\n",
       "      <td>16.30</td>\n",
       "      <td>52.90</td>\n",
       "      <td>68.20</td>\n",
       "      <td>26.83</td>\n",
       "      <td>25.09</td>\n",
       "    </tr>\n",
       "  </tbody>\n",
       "</table>\n",
       "</div>"
      ],
      "text/plain": [
       "  Rating  ...  Roll-over_ratio(%of_GDP)\n",
       "0    Inv  ...                     15.06\n",
       "1    Spe  ...                     24.34\n",
       "2    Spe  ...                     21.31\n",
       "3    Spe  ...                     20.91\n",
       "4    Spe  ...                     25.09\n",
       "\n",
       "[5 rows x 49 columns]"
      ]
     },
     "execution_count": 10,
     "metadata": {},
     "output_type": "execute_result"
    }
   ],
   "source": [
    "data.head()"
   ]
  },
  {
   "cell_type": "code",
   "execution_count": 11,
   "metadata": {
    "executionInfo": {
     "elapsed": 885,
     "status": "ok",
     "timestamp": 1635157176159,
     "user": {
      "displayName": "Yousra Bribri",
      "photoUrl": "https://lh3.googleusercontent.com/a-/AOh14GgOVU_86PAoXg4qd56z_stxiehDDY6SCQ7yTGBNkw=s64",
      "userId": "06517876246303921367"
     },
     "user_tz": -60
    },
    "id": "zpF8zDx-MYzv"
   },
   "outputs": [],
   "source": [
    "selector = RFECV(SGDClassifier(random_state=0), step=1, min_features_to_select=30, cv=5)\n",
    "selector.fit(X, y)\n",
    "X_new = selector.fit_transform(X, y)"
   ]
  },
  {
   "cell_type": "code",
   "execution_count": 12,
   "metadata": {
    "executionInfo": {
     "elapsed": 30,
     "status": "ok",
     "timestamp": 1635157176159,
     "user": {
      "displayName": "Yousra Bribri",
      "photoUrl": "https://lh3.googleusercontent.com/a-/AOh14GgOVU_86PAoXg4qd56z_stxiehDDY6SCQ7yTGBNkw=s64",
      "userId": "06517876246303921367"
     },
     "user_tz": -60
    },
    "id": "uD_Y7rEfXCf8"
   },
   "outputs": [],
   "source": [
    "scaler = StandardScaler()\n",
    "X_new = scaler.fit_transform(X_new)\n",
    "\n",
    "X_train, X_test, y_train, y_test = train_test_split(X_new, y, test_size=0.15, random_state=44, shuffle=True)"
   ]
  },
  {
   "cell_type": "code",
   "execution_count": 13,
   "metadata": {
    "colab": {
     "base_uri": "https://localhost:8080/"
    },
    "executionInfo": {
     "elapsed": 22,
     "status": "ok",
     "timestamp": 1635157176160,
     "user": {
      "displayName": "Yousra Bribri",
      "photoUrl": "https://lh3.googleusercontent.com/a-/AOh14GgOVU_86PAoXg4qd56z_stxiehDDY6SCQ7yTGBNkw=s64",
      "userId": "06517876246303921367"
     },
     "user_tz": -60
    },
    "id": "us8QSE8bYM9q",
    "outputId": "6f0bea08-ee52-4bf3-ffc2-cc2003c957d8"
   },
   "outputs": [
    {
     "name": "stdout",
     "output_type": "stream",
     "text": [
      "Input Shape (619, 30)\n",
      "Output Shape (110, 30)\n"
     ]
    }
   ],
   "source": [
    "print('Input Shape', (X_train.shape))\n",
    "print('Output Shape', (X_test.shape))"
   ]
  },
  {
   "cell_type": "markdown",
   "metadata": {
    "id": "zOcYw5oYOhwi"
   },
   "source": [
    "## Regression logistique"
   ]
  },
  {
   "cell_type": "code",
   "execution_count": 14,
   "metadata": {
    "colab": {
     "base_uri": "https://localhost:8080/"
    },
    "executionInfo": {
     "elapsed": 19,
     "status": "ok",
     "timestamp": 1635157176160,
     "user": {
      "displayName": "Yousra Bribri",
      "photoUrl": "https://lh3.googleusercontent.com/a-/AOh14GgOVU_86PAoXg4qd56z_stxiehDDY6SCQ7yTGBNkw=s64",
      "userId": "06517876246303921367"
     },
     "user_tz": -60
    },
    "id": "89idPYHI2P49",
    "outputId": "486c7578-523b-4c06-f724-97131d227965"
   },
   "outputs": [
    {
     "name": "stdout",
     "output_type": "stream",
     "text": [
      "0.9353796445880452\n",
      "0.9181818181818182\n"
     ]
    }
   ],
   "source": [
    "logreg = LogisticRegression(random_state=44)\n",
    "logreg.fit(X_train, y_train)\n",
    "\n",
    "y_predict_train_logreg = logreg.predict(X_train)\n",
    "y_predict_test_logreg = logreg.predict(X_test)\n",
    "\n",
    "train_accuracy_score_logreg = accuracy_score(y_train, y_predict_train_logreg)\n",
    "test_accuracy_score_logreg = accuracy_score(y_test, y_predict_test_logreg)\n",
    "\n",
    "print(train_accuracy_score_logreg)\n",
    "print(test_accuracy_score_logreg)"
   ]
  },
  {
   "cell_type": "markdown",
   "metadata": {
    "id": "cuBDNxxVOtub"
   },
   "source": [
    "## SVM"
   ]
  },
  {
   "cell_type": "code",
   "execution_count": 15,
   "metadata": {
    "colab": {
     "base_uri": "https://localhost:8080/"
    },
    "executionInfo": {
     "elapsed": 17,
     "status": "ok",
     "timestamp": 1635157176161,
     "user": {
      "displayName": "Yousra Bribri",
      "photoUrl": "https://lh3.googleusercontent.com/a-/AOh14GgOVU_86PAoXg4qd56z_stxiehDDY6SCQ7yTGBNkw=s64",
      "userId": "06517876246303921367"
     },
     "user_tz": -60
    },
    "id": "bNpRsb382ufo",
    "outputId": "15b12970-49e3-43f2-b53c-e064a3c95ea1"
   },
   "outputs": [
    {
     "name": "stdout",
     "output_type": "stream",
     "text": [
      "Best CVal on training: 0.9515347334410339\n",
      "Best Model on testing: 0.9454545454545454\n"
     ]
    }
   ],
   "source": [
    "sm = svm.SVC().fit(X_train,y_train)\n",
    "pred_train_svm = sm.predict(X_train)\n",
    "y_pred_svm = sm.predict(X_test)\n",
    "print ('Best CVal on training:',accuracy_score(y_train, pred_train_svm))\n",
    "print ('Best Model on testing:', accuracy_score(y_test, y_pred_svm))"
   ]
  },
  {
   "cell_type": "markdown",
   "metadata": {
    "id": "fjK1-vxUO9CG"
   },
   "source": [
    "## Evaluation"
   ]
  },
  {
   "cell_type": "code",
   "execution_count": 16,
   "metadata": {
    "colab": {
     "base_uri": "https://localhost:8080/"
    },
    "executionInfo": {
     "elapsed": 13,
     "status": "ok",
     "timestamp": 1635157176161,
     "user": {
      "displayName": "Yousra Bribri",
      "photoUrl": "https://lh3.googleusercontent.com/a-/AOh14GgOVU_86PAoXg4qd56z_stxiehDDY6SCQ7yTGBNkw=s64",
      "userId": "06517876246303921367"
     },
     "user_tz": -60
    },
    "id": "4YigcIe3PDtB",
    "outputId": "6322cdbc-b16d-4511-ff35-021828995f4e"
   },
   "outputs": [
    {
     "name": "stdout",
     "output_type": "stream",
     "text": [
      "              precision    recall  f1-score   support\n",
      "\n",
      "           0       0.95      0.96      0.96       346\n",
      "           1       0.95      0.94      0.94       273\n",
      "\n",
      "    accuracy                           0.95       619\n",
      "   macro avg       0.95      0.95      0.95       619\n",
      "weighted avg       0.95      0.95      0.95       619\n",
      "\n"
     ]
    }
   ],
   "source": [
    "from sklearn.metrics import accuracy_score\n",
    "from sklearn.metrics import classification_report\n",
    "from sklearn.metrics import roc_auc_score\n",
    "from sklearn.metrics import roc_curve\n",
    "\n",
    "print(classification_report(y_train,  sm.predict(X_train)))\n"
   ]
  },
  {
   "cell_type": "code",
   "execution_count": 17,
   "metadata": {
    "colab": {
     "base_uri": "https://localhost:8080/"
    },
    "executionInfo": {
     "elapsed": 11,
     "status": "ok",
     "timestamp": 1635157176162,
     "user": {
      "displayName": "Yousra Bribri",
      "photoUrl": "https://lh3.googleusercontent.com/a-/AOh14GgOVU_86PAoXg4qd56z_stxiehDDY6SCQ7yTGBNkw=s64",
      "userId": "06517876246303921367"
     },
     "user_tz": -60
    },
    "id": "JcCVvf34V3uX",
    "outputId": "61c6aa86-e292-474d-d138-0fc15c03c373"
   },
   "outputs": [
    {
     "name": "stdout",
     "output_type": "stream",
     "text": [
      "              precision    recall  f1-score   support\n",
      "\n",
      "           0       0.93      0.95      0.94       346\n",
      "           1       0.94      0.92      0.93       273\n",
      "\n",
      "    accuracy                           0.94       619\n",
      "   macro avg       0.94      0.93      0.93       619\n",
      "weighted avg       0.94      0.94      0.94       619\n",
      "\n"
     ]
    }
   ],
   "source": [
    "print(classification_report(y_train,  logreg.predict(X_train)))"
   ]
  },
  {
   "cell_type": "code",
   "execution_count": 18,
   "metadata": {
    "colab": {
     "base_uri": "https://localhost:8080/",
     "height": 457
    },
    "executionInfo": {
     "elapsed": 1049,
     "status": "ok",
     "timestamp": 1635157177203,
     "user": {
      "displayName": "Yousra Bribri",
      "photoUrl": "https://lh3.googleusercontent.com/a-/AOh14GgOVU_86PAoXg4qd56z_stxiehDDY6SCQ7yTGBNkw=s64",
      "userId": "06517876246303921367"
     },
     "user_tz": -60
    },
    "id": "vJoXNXluTjym",
    "outputId": "56262507-d57b-4b82-9506-8682ebafddee"
   },
   "outputs": [
    {
     "data": {
      "image/png": "[encoded data removed]",
      "text/plain": [
       "<Figure size 500x500 with 1 Axes>"
      ]
     },
     "metadata": {
      "needs_background": "light"
     },
     "output_type": "display_data"
    }
   ],
   "source": [
    "from sklearn.metrics import roc_curve, auc\n",
    "\n",
    "RF_fpr, RF_tpr, threshold = roc_curve(y_train, sm.predict(X_train))\n",
    "auc_RF = auc(RF_fpr, RF_tpr)\n",
    "\n",
    "\n",
    "plt.figure(figsize=(5, 5), dpi=100)\n",
    "\n",
    "plt.plot(RF_fpr, RF_tpr, marker='.', label='SVM (auc = %0.3f)' % auc_RF)\n",
    "\n",
    "plt.xlabel('False Positive Rate -->')\n",
    "plt.ylabel('True Positive Rate -->')\n",
    "\n",
    "plt.legend()\n",
    "\n",
    "plt.show()"
   ]
  },
  {
   "cell_type": "code",
   "execution_count": 19,
   "metadata": {
    "colab": {
     "base_uri": "https://localhost:8080/",
     "height": 457
    },
    "executionInfo": {
     "elapsed": 13,
     "status": "ok",
     "timestamp": 1635157177204,
     "user": {
      "displayName": "Yousra Bribri",
      "photoUrl": "https://lh3.googleusercontent.com/a-/AOh14GgOVU_86PAoXg4qd56z_stxiehDDY6SCQ7yTGBNkw=s64",
      "userId": "06517876246303921367"
     },
     "user_tz": -60
    },
    "id": "WLtSYxKVUBo0",
    "outputId": "6c18e531-cc33-479b-9765-a7d4a989b22c"
   },
   "outputs": [
    {
     "data": {
      "image/png": "[encoded data removed]",
      "text/plain": [
       "<Figure size 500x500 with 1 Axes>"
      ]
     },
     "metadata": {
      "needs_background": "light"
     },
     "output_type": "display_data"
    }
   ],
   "source": [
    "from sklearn.metrics import roc_curve, auc\n",
    "\n",
    "\n",
    "\n",
    "logistic_fpr, logistic_tpr, threshold = roc_curve(y_train, logreg.predict(X_train))\n",
    "auc_logistic = auc(logistic_fpr, logistic_tpr)\n",
    "\n",
    "plt.figure(figsize=(5, 5), dpi=100)\n",
    "\n",
    "\n",
    "plt.plot(logistic_fpr, logistic_tpr, marker='.', label='Logistic (auc = %0.3f)' % auc_logistic)\n",
    "plt.xlabel('False Positive Rate -->')\n",
    "plt.ylabel('True Positive Rate -->')\n",
    "\n",
    "plt.legend()\n",
    "\n",
    "plt.show()"
   ]
  }
 ],
 "metadata": {
  "colab": {
   "collapsed_sections": [],
   "name": "Binary_Models.ipynb",
   "provenance": []
  },
  "kernelspec": {
   "display_name": "Python 3",
   "language": "python",
   "name": "python3"
  },
  "language_info": {
   "codemirror_mode": {
    "name": "ipython",
    "version": 3
   },
   "file_extension": ".py",
   "mimetype": "text/x-python",
   "name": "python",
   "nbconvert_exporter": "python",
   "pygments_lexer": "ipython3",
   "version": "3.8.3"
  }
 },
 "nbformat": 4,
 "nbformat_minor": 1
}
