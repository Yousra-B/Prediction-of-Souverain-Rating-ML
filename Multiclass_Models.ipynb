{
 "cells": [
  {
   "cell_type": "markdown",
   "metadata": {
    "id": "RzbT4gRGPI19"
   },
   "source": [
    "## Importation des bib"
   ]
  },
  {
   "cell_type": "code",
   "execution_count": null,
   "metadata": {
    "id": "mALlHHnfCdbI"
   },
   "outputs": [],
   "source": [
    "import numpy as np\n",
    "import pandas as pd\n",
    "import matplotlib.pyplot as plt\n",
    "import seaborn as sns\n",
    "\n",
    "from sklearn import svm\n",
    "from sklearn.datasets import make_classification\n",
    "from sklearn.model_selection import train_test_split, cross_val_score, RandomizedSearchCV, GridSearchCV, cross_val_predict\n",
    "from sklearn.ensemble import RandomForestClassifier\n",
    "from sklearn.linear_model import LogisticRegression\n",
    "from sklearn.model_selection import RepeatedStratifiedKFold\n",
    "from sklearn.metrics import roc_curve, roc_auc_score, accuracy_score, confusion_matrix, classification_report\n",
    "from sklearn.preprocessing import StandardScaler\n",
    "from sklearn.feature_selection import RFE, RFECV\n",
    "from sklearn.linear_model import SGDClassifier\n"
   ]
  },
  {
   "cell_type": "markdown",
   "metadata": {
    "id": "jYY-qf5nPNB1"
   },
   "source": [
    "## Importation des données"
   ]
  },
  {
   "cell_type": "code",
   "execution_count": null,
   "metadata": {
    "id": "hB51hAX6CvN4"
   },
   "outputs": [],
   "source": [
    "data = pd.read_csv('Cleaned_Data.csv')"
   ]
  },
  {
   "cell_type": "code",
   "execution_count": null,
   "metadata": {
    "colab": {
     "base_uri": "https://localhost:8080/",
     "height": 292
    },
    "executionInfo": {
     "elapsed": 627,
     "status": "ok",
     "timestamp": 1635408740226,
     "user": {
      "displayName": "Yousra Bribri",
      "photoUrl": "https://lh3.googleusercontent.com/a-/AOh14GgOVU_86PAoXg4qd56z_stxiehDDY6SCQ7yTGBNkw=s64",
      "userId": "06517876246303921367"
     },
     "user_tz": -60
    },
    "id": "LA9IYAVDl6G4",
    "outputId": "f07ade0e-8c39-4ee7-ea42-f9298a523510"
   },
   "outputs": [
    {
     "data": {
      "text/html": [
       "<div>\n",
       "<style scoped>\n",
       "    .dataframe tbody tr th:only-of-type {\n",
       "        vertical-align: middle;\n",
       "    }\n",
       "\n",
       "    .dataframe tbody tr th {\n",
       "        vertical-align: top;\n",
       "    }\n",
       "\n",
       "    .dataframe thead th {\n",
       "        text-align: right;\n",
       "    }\n",
       "</style>\n",
       "<table border=\"1\" class=\"dataframe\">\n",
       "  <thead>\n",
       "    <tr style=\"text-align: right;\">\n",
       "      <th></th>\n",
       "      <th>Unnamed: 0</th>\n",
       "      <th>Rating</th>\n",
       "      <th>Nominal_GDP(bil.LC)</th>\n",
       "      <th>Nominal_GDP(bil.US$)</th>\n",
       "      <th>GDP_per_capita(US$)</th>\n",
       "      <th>Real_GDP_growth(%)</th>\n",
       "      <th>Real_GDP_per_capita_growth(%)</th>\n",
       "      <th>Real_investment_growth(%)</th>\n",
       "      <th>Investment/GDP(%)</th>\n",
       "      <th>Savings/GDP(%)</th>\n",
       "      <th>Exports/GDP(%)</th>\n",
       "      <th>Unemployment_rate(%of_workforce)</th>\n",
       "      <th>CPI_growth(%)</th>\n",
       "      <th>GDP_deflator_growth(%)</th>\n",
       "      <th>Exchange_rate_year-end(LC/$)</th>\n",
       "      <th>Banks_claims_on_resident_non-govt_sector_growth</th>\n",
       "      <th>Banks_claims_on_resident_non-govt_sector/GDP</th>\n",
       "      <th>GG_balance/GDP(%)</th>\n",
       "      <th>Change_in_Net_GG_debt/GDP(%)</th>\n",
       "      <th>Primary_GG_balance/GDP(%)</th>\n",
       "      <th>GG_Revenues/GDP(%)</th>\n",
       "      <th>GG_Expenditures/GDP(%)</th>\n",
       "      <th>GG_interest_expenditure/revenues(%)</th>\n",
       "      <th>Gross_GG_debt/GDP(%)</th>\n",
       "      <th>Debt/Revenues(%)</th>\n",
       "      <th>Net_GG_debt/GDP(%)</th>\n",
       "      <th>Liquid_assets/GDP</th>\n",
       "      <th>CARs/GDP(%)</th>\n",
       "      <th>Real_exports_growth(%)</th>\n",
       "      <th>Current_account_balance/GDP(%)</th>\n",
       "      <th>Current_account_balance/CARs(%)</th>\n",
       "      <th>Usable_reserves/CAPs(months)</th>\n",
       "      <th>Gross_ext.fin.needs/(CAR+use.res.)(%)</th>\n",
       "      <th>Net_FDI/GDP(%)</th>\n",
       "      <th>Trade_balance/GDP</th>\n",
       "      <th>Net_portfolio_equity_inflow/GDP</th>\n",
       "      <th>Narrow_net_ext.debt/CARs(%)</th>\n",
       "      <th>Narrow_net_ext.debt/CAPs(%)</th>\n",
       "      <th>Net_ext.liabilities/CARs(%)</th>\n",
       "      <th>Short-term_external_debt_by_remaining_maturity/CARs</th>\n",
       "      <th>Usable_reserves(US$mil.)</th>\n",
       "      <th>Gross_LT_commercial_borrowing(US$bil.)</th>\n",
       "      <th>Commercial_debt_stock(year_end_US$bil.)</th>\n",
       "      <th>ST_debt(US$bil.)</th>\n",
       "      <th>Bi-/Multilateral_debt(%of_total)</th>\n",
       "      <th>ST_debt(%of_total)</th>\n",
       "      <th>FC_debt(%of_total)</th>\n",
       "      <th>LT_fixed-rate_debt(%of_total)</th>\n",
       "      <th>Roll-over ratio (% of debt)</th>\n",
       "      <th>Roll-over_ratio(%of_GDP)</th>\n",
       "    </tr>\n",
       "  </thead>\n",
       "  <tbody>\n",
       "    <tr>\n",
       "      <th>0</th>\n",
       "      <td>0</td>\n",
       "      <td>BBB</td>\n",
       "      <td>11.68</td>\n",
       "      <td>31.05</td>\n",
       "      <td>22659.37</td>\n",
       "      <td>2.49</td>\n",
       "      <td>-1.68</td>\n",
       "      <td>-8.53</td>\n",
       "      <td>25.53</td>\n",
       "      <td>23.11</td>\n",
       "      <td>83.11</td>\n",
       "      <td>3.5</td>\n",
       "      <td>1.85</td>\n",
       "      <td>-9.26</td>\n",
       "      <td>0.38</td>\n",
       "      <td>8.91</td>\n",
       "      <td>64.66</td>\n",
       "      <td>-13.00</td>\n",
       "      <td>18.35</td>\n",
       "      <td>-10.69</td>\n",
       "      <td>17.49</td>\n",
       "      <td>30.49</td>\n",
       "      <td>13.20</td>\n",
       "      <td>62.10</td>\n",
       "      <td>355.04</td>\n",
       "      <td>42.07</td>\n",
       "      <td>20.03</td>\n",
       "      <td>89.81</td>\n",
       "      <td>-0.85</td>\n",
       "      <td>-2.42</td>\n",
       "      <td>-2.70</td>\n",
       "      <td>0.21</td>\n",
       "      <td>307.43</td>\n",
       "      <td>-10.07</td>\n",
       "      <td>2.68</td>\n",
       "      <td>2.84</td>\n",
       "      <td>-51.28</td>\n",
       "      <td>-49.94</td>\n",
       "      <td>-116.71</td>\n",
       "      <td>210.16</td>\n",
       "      <td>-1553.89</td>\n",
       "      <td>3.0</td>\n",
       "      <td>18.8</td>\n",
       "      <td>5.305851</td>\n",
       "      <td>2.38</td>\n",
       "      <td>27.60</td>\n",
       "      <td>42.69</td>\n",
       "      <td>72.40</td>\n",
       "      <td>24.32</td>\n",
       "      <td>15.06</td>\n",
       "    </tr>\n",
       "    <tr>\n",
       "      <th>1</th>\n",
       "      <td>1</td>\n",
       "      <td>BB</td>\n",
       "      <td>12.12</td>\n",
       "      <td>32.23</td>\n",
       "      <td>22641.28</td>\n",
       "      <td>3.56</td>\n",
       "      <td>-0.33</td>\n",
       "      <td>10.78</td>\n",
       "      <td>29.15</td>\n",
       "      <td>24.52</td>\n",
       "      <td>74.20</td>\n",
       "      <td>4.3</td>\n",
       "      <td>2.79</td>\n",
       "      <td>0.25</td>\n",
       "      <td>0.38</td>\n",
       "      <td>2.92</td>\n",
       "      <td>64.10</td>\n",
       "      <td>-13.49</td>\n",
       "      <td>17.57</td>\n",
       "      <td>-10.50</td>\n",
       "      <td>15.66</td>\n",
       "      <td>29.14</td>\n",
       "      <td>19.08</td>\n",
       "      <td>77.64</td>\n",
       "      <td>495.85</td>\n",
       "      <td>58.09</td>\n",
       "      <td>19.55</td>\n",
       "      <td>80.80</td>\n",
       "      <td>-2.76</td>\n",
       "      <td>-4.63</td>\n",
       "      <td>-5.73</td>\n",
       "      <td>-0.68</td>\n",
       "      <td>361.98</td>\n",
       "      <td>3.49</td>\n",
       "      <td>-2.49</td>\n",
       "      <td>-3.25</td>\n",
       "      <td>-47.86</td>\n",
       "      <td>-45.26</td>\n",
       "      <td>-119.13</td>\n",
       "      <td>234.65</td>\n",
       "      <td>-3061.71</td>\n",
       "      <td>4.4</td>\n",
       "      <td>23.1</td>\n",
       "      <td>5.505319</td>\n",
       "      <td>1.82</td>\n",
       "      <td>23.39</td>\n",
       "      <td>47.64</td>\n",
       "      <td>76.61</td>\n",
       "      <td>33.34</td>\n",
       "      <td>24.34</td>\n",
       "    </tr>\n",
       "    <tr>\n",
       "      <th>2</th>\n",
       "      <td>2</td>\n",
       "      <td>B</td>\n",
       "      <td>13.34</td>\n",
       "      <td>35.47</td>\n",
       "      <td>23631.61</td>\n",
       "      <td>4.29</td>\n",
       "      <td>-1.09</td>\n",
       "      <td>10.57</td>\n",
       "      <td>32.94</td>\n",
       "      <td>28.86</td>\n",
       "      <td>75.78</td>\n",
       "      <td>4.2</td>\n",
       "      <td>1.39</td>\n",
       "      <td>5.52</td>\n",
       "      <td>0.38</td>\n",
       "      <td>7.68</td>\n",
       "      <td>62.72</td>\n",
       "      <td>-10.01</td>\n",
       "      <td>12.81</td>\n",
       "      <td>-6.42</td>\n",
       "      <td>16.50</td>\n",
       "      <td>26.52</td>\n",
       "      <td>21.77</td>\n",
       "      <td>85.17</td>\n",
       "      <td>516.12</td>\n",
       "      <td>65.60</td>\n",
       "      <td>19.57</td>\n",
       "      <td>81.74</td>\n",
       "      <td>3.69</td>\n",
       "      <td>-4.09</td>\n",
       "      <td>-5.00</td>\n",
       "      <td>-1.21</td>\n",
       "      <td>352.53</td>\n",
       "      <td>3.37</td>\n",
       "      <td>-1.55</td>\n",
       "      <td>0.81</td>\n",
       "      <td>-47.55</td>\n",
       "      <td>-45.29</td>\n",
       "      <td>-106.95</td>\n",
       "      <td>210.30</td>\n",
       "      <td>-4179.92</td>\n",
       "      <td>6.3</td>\n",
       "      <td>28.2</td>\n",
       "      <td>5.821809</td>\n",
       "      <td>0.00</td>\n",
       "      <td>21.42</td>\n",
       "      <td>50.94</td>\n",
       "      <td>79.32</td>\n",
       "      <td>26.84</td>\n",
       "      <td>21.31</td>\n",
       "    </tr>\n",
       "    <tr>\n",
       "      <th>3</th>\n",
       "      <td>3</td>\n",
       "      <td>B</td>\n",
       "      <td>14.16</td>\n",
       "      <td>37.65</td>\n",
       "      <td>25051.06</td>\n",
       "      <td>1.72</td>\n",
       "      <td>1.59</td>\n",
       "      <td>9.51</td>\n",
       "      <td>35.00</td>\n",
       "      <td>28.54</td>\n",
       "      <td>79.56</td>\n",
       "      <td>4.0</td>\n",
       "      <td>2.09</td>\n",
       "      <td>4.35</td>\n",
       "      <td>0.38</td>\n",
       "      <td>10.67</td>\n",
       "      <td>65.40</td>\n",
       "      <td>-6.32</td>\n",
       "      <td>13.41</td>\n",
       "      <td>-1.95</td>\n",
       "      <td>19.60</td>\n",
       "      <td>25.92</td>\n",
       "      <td>22.30</td>\n",
       "      <td>91.92</td>\n",
       "      <td>468.91</td>\n",
       "      <td>75.22</td>\n",
       "      <td>16.70</td>\n",
       "      <td>85.99</td>\n",
       "      <td>3.26</td>\n",
       "      <td>-6.47</td>\n",
       "      <td>-7.52</td>\n",
       "      <td>-1.44</td>\n",
       "      <td>329.63</td>\n",
       "      <td>4.10</td>\n",
       "      <td>-2.83</td>\n",
       "      <td>-2.60</td>\n",
       "      <td>-26.21</td>\n",
       "      <td>-24.37</td>\n",
       "      <td>-74.55</td>\n",
       "      <td>179.55</td>\n",
       "      <td>-5872.03</td>\n",
       "      <td>2.8</td>\n",
       "      <td>31.8</td>\n",
       "      <td>5.954787</td>\n",
       "      <td>4.02</td>\n",
       "      <td>19.10</td>\n",
       "      <td>50.00</td>\n",
       "      <td>65.60</td>\n",
       "      <td>23.80</td>\n",
       "      <td>20.91</td>\n",
       "    </tr>\n",
       "    <tr>\n",
       "      <th>4</th>\n",
       "      <td>4</td>\n",
       "      <td>B</td>\n",
       "      <td>14.47</td>\n",
       "      <td>38.47</td>\n",
       "      <td>25929.95</td>\n",
       "      <td>1.99</td>\n",
       "      <td>3.32</td>\n",
       "      <td>1.41</td>\n",
       "      <td>33.08</td>\n",
       "      <td>31.01</td>\n",
       "      <td>76.84</td>\n",
       "      <td>4.0</td>\n",
       "      <td>1.00</td>\n",
       "      <td>0.18</td>\n",
       "      <td>0.38</td>\n",
       "      <td>1.90</td>\n",
       "      <td>65.22</td>\n",
       "      <td>-4.73</td>\n",
       "      <td>9.40</td>\n",
       "      <td>-0.28</td>\n",
       "      <td>20.06</td>\n",
       "      <td>24.79</td>\n",
       "      <td>22.19</td>\n",
       "      <td>100.50</td>\n",
       "      <td>500.98</td>\n",
       "      <td>83.02</td>\n",
       "      <td>17.48</td>\n",
       "      <td>82.90</td>\n",
       "      <td>0.38</td>\n",
       "      <td>-2.06</td>\n",
       "      <td>-2.49</td>\n",
       "      <td>-2.16</td>\n",
       "      <td>367.19</td>\n",
       "      <td>4.41</td>\n",
       "      <td>2.23</td>\n",
       "      <td>-1.52</td>\n",
       "      <td>-43.21</td>\n",
       "      <td>-42.16</td>\n",
       "      <td>-82.82</td>\n",
       "      <td>197.10</td>\n",
       "      <td>-5093.77</td>\n",
       "      <td>3.3</td>\n",
       "      <td>31.5</td>\n",
       "      <td>5.319149</td>\n",
       "      <td>12.70</td>\n",
       "      <td>16.30</td>\n",
       "      <td>52.90</td>\n",
       "      <td>68.20</td>\n",
       "      <td>26.83</td>\n",
       "      <td>25.09</td>\n",
       "    </tr>\n",
       "  </tbody>\n",
       "</table>\n",
       "</div>"
      ],
      "text/plain": [
       "   Unnamed: 0 Rating  ...  Roll-over ratio (% of debt)  Roll-over_ratio(%of_GDP)\n",
       "0           0    BBB  ...                        24.32                     15.06\n",
       "1           1     BB  ...                        33.34                     24.34\n",
       "2           2      B  ...                        26.84                     21.31\n",
       "3           3      B  ...                        23.80                     20.91\n",
       "4           4      B  ...                        26.83                     25.09\n",
       "\n",
       "[5 rows x 50 columns]"
      ]
     },
     "execution_count": 3,
     "metadata": {},
     "output_type": "execute_result"
    }
   ],
   "source": [
    "data.head()"
   ]
  },
  {
   "cell_type": "code",
   "execution_count": null,
   "metadata": {
    "colab": {
     "base_uri": "https://localhost:8080/"
    },
    "executionInfo": {
     "elapsed": 562,
     "status": "ok",
     "timestamp": 1635408744453,
     "user": {
      "displayName": "Yousra Bribri",
      "photoUrl": "https://lh3.googleusercontent.com/a-/AOh14GgOVU_86PAoXg4qd56z_stxiehDDY6SCQ7yTGBNkw=s64",
      "userId": "06517876246303921367"
     },
     "user_tz": -60
    },
    "id": "yv1_SzcMTvk1",
    "outputId": "2b03a368-eda4-4868-e279-b5b5035c0f2c"
   },
   "outputs": [
    {
     "data": {
      "text/plain": [
       "B      181\n",
       "BBB    147\n",
       "BB     125\n",
       "AA     111\n",
       "A       87\n",
       "AAA     59\n",
       "CCC     19\n",
       "Name: Rating, dtype: int64"
      ]
     },
     "execution_count": 4,
     "metadata": {},
     "output_type": "execute_result"
    }
   ],
   "source": [
    "data.Rating.value_counts()"
   ]
  },
  {
   "cell_type": "code",
   "execution_count": null,
   "metadata": {
    "id": "pCa5wySxzy6M"
   },
   "outputs": [],
   "source": [
    "del data['Unnamed: 0']"
   ]
  },
  {
   "cell_type": "code",
   "execution_count": null,
   "metadata": {
    "id": "JHnpzVlgBocW"
   },
   "outputs": [],
   "source": [
    "from sklearn.preprocessing import LabelEncoder\n",
    "le=LabelEncoder()\n",
    "X = data.drop(['Rating'], axis = 1)\n",
    "y=le.fit_transform(data['Rating'])"
   ]
  },
  {
   "cell_type": "code",
   "execution_count": null,
   "metadata": {
    "colab": {
     "base_uri": "https://localhost:8080/"
    },
    "executionInfo": {
     "elapsed": 9,
     "status": "ok",
     "timestamp": 1635408753228,
     "user": {
      "displayName": "Yousra Bribri",
      "photoUrl": "https://lh3.googleusercontent.com/a-/AOh14GgOVU_86PAoXg4qd56z_stxiehDDY6SCQ7yTGBNkw=s64",
      "userId": "06517876246303921367"
     },
     "user_tz": -60
    },
    "id": "dtPFRXobCIrn",
    "outputId": "19e64af1-4caf-405b-c405-3ccc41114203"
   },
   "outputs": [
    {
     "data": {
      "text/plain": [
       "array(['A', 'AA', 'AAA', 'B', 'BB', 'BBB', 'CCC'], dtype=object)"
      ]
     },
     "execution_count": 7,
     "metadata": {},
     "output_type": "execute_result"
    }
   ],
   "source": [
    "le.classes_"
   ]
  },
  {
   "cell_type": "code",
   "execution_count": null,
   "metadata": {
    "colab": {
     "base_uri": "https://localhost:8080/"
    },
    "executionInfo": {
     "elapsed": 490,
     "status": "ok",
     "timestamp": 1635408756195,
     "user": {
      "displayName": "Yousra Bribri",
      "photoUrl": "https://lh3.googleusercontent.com/a-/AOh14GgOVU_86PAoXg4qd56z_stxiehDDY6SCQ7yTGBNkw=s64",
      "userId": "06517876246303921367"
     },
     "user_tz": -60
    },
    "id": "R0K65CrSCLNU",
    "outputId": "b9c4e921-a135-40f1-f8eb-c2cbf75de238"
   },
   "outputs": [
    {
     "data": {
      "text/plain": [
       "{'A': 0, 'AA': 1, 'AAA': 2, 'B': 3, 'BB': 4, 'BBB': 5, 'CCC': 6}"
      ]
     },
     "execution_count": 8,
     "metadata": {},
     "output_type": "execute_result"
    }
   ],
   "source": [
    "dict(zip(le.inverse_transform([0,1,2,3,4,5,6]),[0,1,2,3,4,5,6]))"
   ]
  },
  {
   "cell_type": "code",
   "execution_count": null,
   "metadata": {
    "id": "zpF8zDx-MYzv"
   },
   "outputs": [],
   "source": [
    "selector = RFECV(SGDClassifier(random_state=0), step=1, min_features_to_select=30, cv=5)\n",
    "selector.fit(X, y)\n",
    "X_new = selector.fit_transform(X, y)"
   ]
  },
  {
   "cell_type": "code",
   "execution_count": null,
   "metadata": {
    "id": "uD_Y7rEfXCf8"
   },
   "outputs": [],
   "source": [
    "scaler = StandardScaler()\n",
    "X_new = scaler.fit_transform(X_new)\n",
    "\n",
    "X_train, X_test, y_train, y_test = train_test_split(X_new, y, test_size=0.15, random_state=44, shuffle=True)"
   ]
  },
  {
   "cell_type": "code",
   "execution_count": null,
   "metadata": {
    "colab": {
     "base_uri": "https://localhost:8080/"
    },
    "executionInfo": {
     "elapsed": 399,
     "status": "ok",
     "timestamp": 1635408769983,
     "user": {
      "displayName": "Yousra Bribri",
      "photoUrl": "https://lh3.googleusercontent.com/a-/AOh14GgOVU_86PAoXg4qd56z_stxiehDDY6SCQ7yTGBNkw=s64",
      "userId": "06517876246303921367"
     },
     "user_tz": -60
    },
    "id": "us8QSE8bYM9q",
    "outputId": "0bb2f039-cf8b-4078-9057-a1cb1c58853d"
   },
   "outputs": [
    {
     "name": "stdout",
     "output_type": "stream",
     "text": [
      "Input Shape (619, 39)\n",
      "Output Shape (110, 39)\n"
     ]
    }
   ],
   "source": [
    "print('Input Shape', (X_train.shape))\n",
    "print('Output Shape', (X_test.shape))"
   ]
  },
  {
   "cell_type": "markdown",
   "metadata": {
    "id": "zOcYw5oYOhwi"
   },
   "source": [
    "## Regression logistique"
   ]
  },
  {
   "cell_type": "code",
   "execution_count": null,
   "metadata": {
    "id": "ALRZ9rONG6RW"
   },
   "outputs": [],
   "source": [
    "def draw_confusion_matrix(cm):\n",
    "    plt.figure(figsize=(12,8))\n",
    "    sns.heatmap(cm,annot=True,fmt=\"d\", center=0, cmap='autumn') \n",
    "    plt.title(\"Confusion Matrix\")\n",
    "    plt.ylabel('True label')\n",
    "    plt.xlabel('Predicted label')\n",
    "    plt.show()"
   ]
  },
  {
   "cell_type": "code",
   "execution_count": null,
   "metadata": {
    "colab": {
     "base_uri": "https://localhost:8080/"
    },
    "executionInfo": {
     "elapsed": 441,
     "status": "ok",
     "timestamp": 1635408777929,
     "user": {
      "displayName": "Yousra Bribri",
      "photoUrl": "https://lh3.googleusercontent.com/a-/AOh14GgOVU_86PAoXg4qd56z_stxiehDDY6SCQ7yTGBNkw=s64",
      "userId": "06517876246303921367"
     },
     "user_tz": -60
    },
    "id": "kP3_ZnolHCtH",
    "outputId": "541765fd-329d-4a76-e6e3-7057ecf324b0"
   },
   "outputs": [
    {
     "name": "stdout",
     "output_type": "stream",
     "text": [
      "0.8093699515347335\n",
      "0.7\n"
     ]
    },
    {
     "name": "stderr",
     "output_type": "stream",
     "text": [
      "/usr/local/lib/python3.7/dist-packages/sklearn/linear_model/_logistic.py:940: ConvergenceWarning: lbfgs failed to converge (status=1):\n",
      "STOP: TOTAL NO. of ITERATIONS REACHED LIMIT.\n",
      "\n",
      "Increase the number of iterations (max_iter) or scale the data as shown in:\n",
      "    https://scikit-learn.org/stable/modules/preprocessing.html\n",
      "Please also refer to the documentation for alternative solver options:\n",
      "    https://scikit-learn.org/stable/modules/linear_model.html#logistic-regression\n",
      "  extra_warning_msg=_LOGISTIC_SOLVER_CONVERGENCE_MSG)\n"
     ]
    }
   ],
   "source": [
    "from sklearn.metrics import accuracy_score, confusion_matrix\n",
    "\n",
    "logreg = LogisticRegression(random_state=42)\n",
    "logreg.fit(X_train, y_train)\n",
    "\n",
    "y_predict_train_logreg = logreg.predict(X_train)\n",
    "y_predict_test_logreg = logreg.predict(X_test)\n",
    "\n",
    "train_accuracy_score_logreg = accuracy_score(y_train, y_predict_train_logreg)\n",
    "test_accuracy_score_logreg = accuracy_score(y_test, y_predict_test_logreg)\n",
    "\n",
    "print(train_accuracy_score_logreg)\n",
    "print(test_accuracy_score_logreg)"
   ]
  },
  {
   "cell_type": "code",
   "execution_count": null,
   "metadata": {
    "colab": {
     "base_uri": "https://localhost:8080/",
     "height": 513
    },
    "executionInfo": {
     "elapsed": 1078,
     "status": "ok",
     "timestamp": 1635408782460,
     "user": {
      "displayName": "Yousra Bribri",
      "photoUrl": "https://lh3.googleusercontent.com/a-/AOh14GgOVU_86PAoXg4qd56z_stxiehDDY6SCQ7yTGBNkw=s64",
      "userId": "06517876246303921367"
     },
     "user_tz": -60
    },
    "id": "4NOxNdGqHTdx",
    "outputId": "0f57e7fa-7d29-4130-8add-4229e0412dba"
   },
   "outputs": [
    {
     "data": {
      "image/png": "[encoded data removed]",
      "text/plain": [
       "<Figure size 864x576 with 2 Axes>"
      ]
     },
     "metadata": {
      "needs_background": "light"
     },
     "output_type": "display_data"
    }
   ],
   "source": [
    "cm_logreg = confusion_matrix(y_test,y_predict_test_logreg)\n",
    "draw_confusion_matrix(cm_logreg)"
   ]
  },
  {
   "cell_type": "code",
   "execution_count": null,
   "metadata": {
    "colab": {
     "base_uri": "https://localhost:8080/"
    },
    "executionInfo": {
     "elapsed": 419,
     "status": "ok",
     "timestamp": 1635408784869,
     "user": {
      "displayName": "Yousra Bribri",
      "photoUrl": "https://lh3.googleusercontent.com/a-/AOh14GgOVU_86PAoXg4qd56z_stxiehDDY6SCQ7yTGBNkw=s64",
      "userId": "06517876246303921367"
     },
     "user_tz": -60
    },
    "id": "i5Da-YLyoJe2",
    "outputId": "3cd61e5e-115a-4555-d47d-62674ebfcbfd"
   },
   "outputs": [
    {
     "data": {
      "text/plain": [
       "0.6416584402764067"
      ]
     },
     "execution_count": 15,
     "metadata": {},
     "output_type": "execute_result"
    }
   ],
   "source": [
    "from sklearn.metrics import cohen_kappa_score, balanced_accuracy_score, roc_auc_score\n",
    "\n",
    "cohen_kappa_score(y_test, y_predict_test_logreg)\n"
   ]
  },
  {
   "cell_type": "code",
   "execution_count": null,
   "metadata": {
    "colab": {
     "base_uri": "https://localhost:8080/"
    },
    "executionInfo": {
     "elapsed": 6,
     "status": "ok",
     "timestamp": 1635408787734,
     "user": {
      "displayName": "Yousra Bribri",
      "photoUrl": "https://lh3.googleusercontent.com/a-/AOh14GgOVU_86PAoXg4qd56z_stxiehDDY6SCQ7yTGBNkw=s64",
      "userId": "06517876246303921367"
     },
     "user_tz": -60
    },
    "id": "nMOwt17HqOHY",
    "outputId": "5e78e786-c2fd-4965-b6ec-e01111ecc5fe"
   },
   "outputs": [
    {
     "data": {
      "text/plain": [
       "0.6732224817093236"
      ]
     },
     "execution_count": 16,
     "metadata": {},
     "output_type": "execute_result"
    }
   ],
   "source": [
    "balanced_accuracy_score(y_test, y_predict_test_logreg, adjusted=True)"
   ]
  },
  {
   "cell_type": "code",
   "execution_count": null,
   "metadata": {
    "colab": {
     "base_uri": "https://localhost:8080/"
    },
    "executionInfo": {
     "elapsed": 416,
     "status": "ok",
     "timestamp": 1635408790908,
     "user": {
      "displayName": "Yousra Bribri",
      "photoUrl": "https://lh3.googleusercontent.com/a-/AOh14GgOVU_86PAoXg4qd56z_stxiehDDY6SCQ7yTGBNkw=s64",
      "userId": "06517876246303921367"
     },
     "user_tz": -60
    },
    "id": "TQrj2zlcrQEf",
    "outputId": "857861be-7e7d-458d-8d58-76d2c447c47c"
   },
   "outputs": [
    {
     "data": {
      "text/plain": [
       "0.9299415372773749"
      ]
     },
     "execution_count": 17,
     "metadata": {},
     "output_type": "execute_result"
    }
   ],
   "source": [
    "y_probs_lg = logreg.predict_proba(X_test)\n",
    "\n",
    "roc_auc_score(y_test, y_probs_lg, average=\"weighted\", multi_class=\"ovr\")"
   ]
  },
  {
   "cell_type": "markdown",
   "metadata": {
    "id": "cuBDNxxVOtub"
   },
   "source": [
    "## SVM"
   ]
  },
  {
   "cell_type": "code",
   "execution_count": null,
   "metadata": {
    "colab": {
     "base_uri": "https://localhost:8080/"
    },
    "executionInfo": {
     "elapsed": 394,
     "status": "ok",
     "timestamp": 1635408796647,
     "user": {
      "displayName": "Yousra Bribri",
      "photoUrl": "https://lh3.googleusercontent.com/a-/AOh14GgOVU_86PAoXg4qd56z_stxiehDDY6SCQ7yTGBNkw=s64",
      "userId": "06517876246303921367"
     },
     "user_tz": -60
    },
    "id": "49LJOrH2bCZW",
    "outputId": "b8d05ae0-95d7-4765-cd1b-3b56488fa793"
   },
   "outputs": [
    {
     "name": "stdout",
     "output_type": "stream",
     "text": [
      "Best CVal on training: 0.8594507269789984\n",
      "Best Model on testing: 0.7545454545454545\n"
     ]
    }
   ],
   "source": [
    "sm = svm.SVC(probability=True).fit(X_train,y_train)\n",
    "pred_train_svm = sm.predict(X_train)\n",
    "y_pred_svm = sm.predict(X_test)\n",
    "print ('Best CVal on training:',accuracy_score(y_train, pred_train_svm))\n",
    "print ('Best Model on testing:', accuracy_score(y_test, y_pred_svm))"
   ]
  },
  {
   "cell_type": "code",
   "execution_count": null,
   "metadata": {
    "colab": {
     "base_uri": "https://localhost:8080/",
     "height": 513
    },
    "executionInfo": {
     "elapsed": 592,
     "status": "ok",
     "timestamp": 1635408801322,
     "user": {
      "displayName": "Yousra Bribri",
      "photoUrl": "https://lh3.googleusercontent.com/a-/AOh14GgOVU_86PAoXg4qd56z_stxiehDDY6SCQ7yTGBNkw=s64",
      "userId": "06517876246303921367"
     },
     "user_tz": -60
    },
    "id": "3ye7YsfLtsW7",
    "outputId": "9c8afc14-0205-4016-832c-52938e3b1968"
   },
   "outputs": [
    {
     "data": {
      "image/png": "[encoded data removed]",
      "text/plain": [
       "<Figure size 864x576 with 2 Axes>"
      ]
     },
     "metadata": {
      "needs_background": "light"
     },
     "output_type": "display_data"
    }
   ],
   "source": [
    "cm_svm = confusion_matrix(y_test,y_pred_svm)\n",
    "draw_confusion_matrix(cm_svm)"
   ]
  },
  {
   "cell_type": "code",
   "execution_count": null,
   "metadata": {
    "colab": {
     "base_uri": "https://localhost:8080/"
    },
    "executionInfo": {
     "elapsed": 383,
     "status": "ok",
     "timestamp": 1635408804486,
     "user": {
      "displayName": "Yousra Bribri",
      "photoUrl": "https://lh3.googleusercontent.com/a-/AOh14GgOVU_86PAoXg4qd56z_stxiehDDY6SCQ7yTGBNkw=s64",
      "userId": "06517876246303921367"
     },
     "user_tz": -60
    },
    "id": "TM76R57spOe_",
    "outputId": "c26b6b65-7f29-4134-8e2b-fb7b27eab056"
   },
   "outputs": [
    {
     "data": {
      "text/plain": [
       "0.7052109181141439"
      ]
     },
     "execution_count": 20,
     "metadata": {},
     "output_type": "execute_result"
    }
   ],
   "source": [
    "from sklearn.metrics import cohen_kappa_score\n",
    "\n",
    "cohen_kappa_score(y_test, y_pred_svm)\n"
   ]
  },
  {
   "cell_type": "code",
   "execution_count": null,
   "metadata": {
    "colab": {
     "base_uri": "https://localhost:8080/"
    },
    "executionInfo": {
     "elapsed": 4,
     "status": "ok",
     "timestamp": 1635408806097,
     "user": {
      "displayName": "Yousra Bribri",
      "photoUrl": "https://lh3.googleusercontent.com/a-/AOh14GgOVU_86PAoXg4qd56z_stxiehDDY6SCQ7yTGBNkw=s64",
      "userId": "06517876246303921367"
     },
     "user_tz": -60
    },
    "id": "ugC279XNqufS",
    "outputId": "36e80d25-fbb3-4c17-f6ca-ffc9e908fc38"
   },
   "outputs": [
    {
     "data": {
      "text/plain": [
       "0.7180370117212221"
      ]
     },
     "execution_count": 21,
     "metadata": {},
     "output_type": "execute_result"
    }
   ],
   "source": [
    "balanced_accuracy_score(y_test, y_pred_svm, adjusted=True)"
   ]
  },
  {
   "cell_type": "code",
   "execution_count": null,
   "metadata": {
    "colab": {
     "base_uri": "https://localhost:8080/"
    },
    "executionInfo": {
     "elapsed": 7,
     "status": "ok",
     "timestamp": 1635408807848,
     "user": {
      "displayName": "Yousra Bribri",
      "photoUrl": "https://lh3.googleusercontent.com/a-/AOh14GgOVU_86PAoXg4qd56z_stxiehDDY6SCQ7yTGBNkw=s64",
      "userId": "06517876246303921367"
     },
     "user_tz": -60
    },
    "id": "vSjeaLOmuC1u",
    "outputId": "f217e7a4-34bc-4e30-a2cb-05d7185696ef"
   },
   "outputs": [
    {
     "data": {
      "text/plain": [
       "0.9636219203294525"
      ]
     },
     "execution_count": 22,
     "metadata": {},
     "output_type": "execute_result"
    }
   ],
   "source": [
    "y_probs_svm = sm.predict_proba(X_test)\n",
    "\n",
    "roc_auc_score(y_test, y_probs_svm, average=\"weighted\", multi_class=\"ovr\")"
   ]
  },
  {
   "cell_type": "code",
   "execution_count": null,
   "metadata": {
    "colab": {
     "base_uri": "https://localhost:8080/",
     "height": 324
    },
    "executionInfo": {
     "elapsed": 507,
     "status": "error",
     "timestamp": 1635409304395,
     "user": {
      "displayName": "Yousra Bribri",
      "photoUrl": "https://lh3.googleusercontent.com/a-/AOh14GgOVU_86PAoXg4qd56z_stxiehDDY6SCQ7yTGBNkw=s64",
      "userId": "06517876246303921367"
     },
     "user_tz": -60
    },
    "id": "p1IdNd908jzC",
    "outputId": "64f7524f-8ca3-423d-f493-5dc38a81c716"
   },
   "outputs": [
    {
     "ename": "ValueError",
     "evalue": "ignored",
     "output_type": "error",
     "traceback": [
      "\u001b[0;31m---------------------------------------------------------------------------\u001b[0m",
      "\u001b[0;31mValueError\u001b[0m                                Traceback (most recent call last)",
      "\u001b[0;32m<ipython-input-27-336f63755ea0>\u001b[0m in \u001b[0;36m<module>\u001b[0;34m()\u001b[0m\n\u001b[1;32m      1\u001b[0m \u001b[0mlabels\u001b[0m \u001b[0;34m=\u001b[0m \u001b[0;34m[\u001b[0m\u001b[0;36m0\u001b[0m\u001b[0;34m,\u001b[0m\u001b[0;36m1\u001b[0m\u001b[0;34m,\u001b[0m\u001b[0;36m2\u001b[0m\u001b[0;34m,\u001b[0m\u001b[0;36m3\u001b[0m\u001b[0;34m,\u001b[0m\u001b[0;36m4\u001b[0m\u001b[0;34m,\u001b[0m\u001b[0;36m5\u001b[0m\u001b[0;34m,\u001b[0m\u001b[0;36m6\u001b[0m\u001b[0;34m]\u001b[0m\u001b[0;34m\u001b[0m\u001b[0;34m\u001b[0m\u001b[0m\n\u001b[0;32m----> 2\u001b[0;31m \u001b[0mprint\u001b[0m\u001b[0;34m(\u001b[0m\u001b[0mclassification_report\u001b[0m\u001b[0;34m(\u001b[0m\u001b[0my_test\u001b[0m\u001b[0;34m,\u001b[0m \u001b[0my_probs_svm\u001b[0m\u001b[0;34m)\u001b[0m\u001b[0;34m,\u001b[0m\u001b[0mtarget_names\u001b[0m\u001b[0;34m=\u001b[0m\u001b[0mlabels\u001b[0m\u001b[0;34m)\u001b[0m\u001b[0;34m\u001b[0m\u001b[0;34m\u001b[0m\u001b[0m\n\u001b[0m",
      "\u001b[0;32m/usr/local/lib/python3.7/dist-packages/sklearn/metrics/_classification.py\u001b[0m in \u001b[0;36mclassification_report\u001b[0;34m(y_true, y_pred, labels, target_names, sample_weight, digits, output_dict, zero_division)\u001b[0m\n\u001b[1;32m   1969\u001b[0m     \"\"\"\n\u001b[1;32m   1970\u001b[0m \u001b[0;34m\u001b[0m\u001b[0m\n\u001b[0;32m-> 1971\u001b[0;31m     \u001b[0my_type\u001b[0m\u001b[0;34m,\u001b[0m \u001b[0my_true\u001b[0m\u001b[0;34m,\u001b[0m \u001b[0my_pred\u001b[0m \u001b[0;34m=\u001b[0m \u001b[0m_check_targets\u001b[0m\u001b[0;34m(\u001b[0m\u001b[0my_true\u001b[0m\u001b[0;34m,\u001b[0m \u001b[0my_pred\u001b[0m\u001b[0;34m)\u001b[0m\u001b[0;34m\u001b[0m\u001b[0;34m\u001b[0m\u001b[0m\n\u001b[0m\u001b[1;32m   1972\u001b[0m \u001b[0;34m\u001b[0m\u001b[0m\n\u001b[1;32m   1973\u001b[0m     \u001b[0mlabels_given\u001b[0m \u001b[0;34m=\u001b[0m \u001b[0;32mTrue\u001b[0m\u001b[0;34m\u001b[0m\u001b[0;34m\u001b[0m\u001b[0m\n",
      "\u001b[0;32m/usr/local/lib/python3.7/dist-packages/sklearn/metrics/_classification.py\u001b[0m in \u001b[0;36m_check_targets\u001b[0;34m(y_true, y_pred)\u001b[0m\n\u001b[1;32m     88\u001b[0m     \u001b[0;32mif\u001b[0m \u001b[0mlen\u001b[0m\u001b[0;34m(\u001b[0m\u001b[0my_type\u001b[0m\u001b[0;34m)\u001b[0m \u001b[0;34m>\u001b[0m \u001b[0;36m1\u001b[0m\u001b[0;34m:\u001b[0m\u001b[0;34m\u001b[0m\u001b[0;34m\u001b[0m\u001b[0m\n\u001b[1;32m     89\u001b[0m         raise ValueError(\"Classification metrics can't handle a mix of {0} \"\n\u001b[0;32m---> 90\u001b[0;31m                          \"and {1} targets\".format(type_true, type_pred))\n\u001b[0m\u001b[1;32m     91\u001b[0m \u001b[0;34m\u001b[0m\u001b[0m\n\u001b[1;32m     92\u001b[0m     \u001b[0;31m# We can't have more than one value on y_type => The set is no more needed\u001b[0m\u001b[0;34m\u001b[0m\u001b[0;34m\u001b[0m\u001b[0;34m\u001b[0m\u001b[0m\n",
      "\u001b[0;31mValueError\u001b[0m: Classification metrics can't handle a mix of multiclass and continuous-multioutput targets"
     ]
    }
   ],
   "source": [
    "labels = [0,1,2,3,4,5,6]\n",
    "print(classification_report(y_test, y_probs_svm),target_names=labels)"
   ]
  }
 ],
 "metadata": {
  "colab": {
   "collapsed_sections": [],
   "name": "Multiclass_Models.ipynb",
   "provenance": []
  },
  "kernelspec": {
   "display_name": "Python 3",
   "language": "python",
   "name": "python3"
  },
  "language_info": {
   "codemirror_mode": {
    "name": "ipython",
    "version": 3
   },
   "file_extension": ".py",
   "mimetype": "text/x-python",
   "name": "python",
   "nbconvert_exporter": "python",
   "pygments_lexer": "ipython3",
   "version": "3.8.3"
  }
 },
 "nbformat": 4,
 "nbformat_minor": 1
}
